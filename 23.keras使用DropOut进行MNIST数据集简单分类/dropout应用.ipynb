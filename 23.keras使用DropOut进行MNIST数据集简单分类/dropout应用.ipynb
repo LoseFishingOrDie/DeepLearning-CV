{
 "cells": [
  {
   "cell_type": "code",
   "execution_count": 1,
   "metadata": {
    "collapsed": false
   },
   "outputs": [
    {
     "name": "stderr",
     "output_type": "stream",
     "text": [
      "Using TensorFlow backend.\n"
     ]
    }
   ],
   "source": [
    "import numpy as np\n",
    "from keras.datasets import mnist\n",
    "# keras提供的numpy工具包\n",
    "from keras.utils import np_utils\n",
    "from keras.models import Sequential\n",
    "from keras.layers import Dense, Dropout\n",
    "from keras.optimizers import SGD"
   ]
  },
  {
   "cell_type": "code",
   "execution_count": 7,
   "metadata": {
    "collapsed": false
   },
   "outputs": [
    {
     "name": "stdout",
     "output_type": "stream",
     "text": [
      "x_shape: (60000, 28, 28)\n",
      "y_shape: (60000,)\n",
      "Epoch 1/10\n",
      "60000/60000 [==============================] - 8s 128us/step - loss: 0.4492 - acc: 0.8632\n",
      "Epoch 2/10\n",
      "60000/60000 [==============================] - 7s 118us/step - loss: 0.2854 - acc: 0.9161\n",
      "Epoch 3/10\n",
      "60000/60000 [==============================] - 7s 123us/step - loss: 0.2471 - acc: 0.9258\n",
      "Epoch 4/10\n",
      "60000/60000 [==============================] - 7s 124us/step - loss: 0.2190 - acc: 0.9359\n",
      "Epoch 5/10\n",
      "60000/60000 [==============================] - 7s 124us/step - loss: 0.2038 - acc: 0.9396\n",
      "Epoch 6/10\n",
      "60000/60000 [==============================] - 7s 122us/step - loss: 0.1850 - acc: 0.9444\n",
      "Epoch 7/10\n",
      "60000/60000 [==============================] - 7s 121us/step - loss: 0.1771 - acc: 0.9475\n",
      "Epoch 8/10\n",
      "60000/60000 [==============================] - 7s 123us/step - loss: 0.1681 - acc: 0.9491\n",
      "Epoch 9/10\n",
      "60000/60000 [==============================] - 7s 121us/step - loss: 0.1612 - acc: 0.9530\n",
      "Epoch 10/10\n",
      "60000/60000 [==============================] - 8s 134us/step - loss: 0.1524 - acc: 0.9550\n",
      "10000/10000 [==============================] - 1s 56us/step\n",
      "\n",
      "test loss: 0.10241868693223223\n",
      "test accuracy: 0.9704\n",
      "60000/60000 [==============================] - 3s 50us/step\n",
      "\n",
      "train loss: 0.07547615545553465\n",
      "train accuracy: 0.9770666666666666\n"
     ]
    }
   ],
   "source": [
    "# 载入数据\n",
    "(x_train,y_train), (x_test,y_test) = mnist.load_data()\n",
    "\n",
    "# (6000,28,28)\n",
    "print('x_shape:', x_train.shape)\n",
    "# (6000)\n",
    "print('y_shape:', y_train.shape)\n",
    "\n",
    "# 进行数据转换,并归一化\n",
    "# (60000,28,28) -> (60000, 784)\n",
    "x_train = x_train.reshape(x_train.shape[0], -1)/255.0\n",
    "x_test = x_test.reshape(x_test.shape[0], -1)/255.0\n",
    "# 换one hot格式\n",
    "y_train = np_utils.to_categorical(y_train, num_classes=10)\n",
    "y_test = np_utils.to_categorical(y_test, num_classes=10)\n",
    "\n",
    "# 创建模型: 784-200-100-10\n",
    "model = Sequential([\n",
    "        Dense(units=200, input_dim=784, bias_initializer='one', activation='tanh'),\n",
    "        Dropout(0.4),\n",
    "        Dense(units=100, bias_initializer='one', activation='tanh'),\n",
    "        Dropout(0.4),\n",
    "        Dense(units=10, bias_initializer='one', activation='softmax')\n",
    "    ])\n",
    "\n",
    "# 定义优化\n",
    "sgd = SGD(lr=0.2)\n",
    "\n",
    "# 定义优化器，loss function, 训练过程中的准确率\n",
    "model.compile(\n",
    "    optimizer = sgd,\n",
    "    loss = 'categorical_crossentropy',\n",
    "    metrics = ['accuracy']\n",
    ")\n",
    "\n",
    "# 进行模型训练\n",
    "model.fit(x_train, y_train, batch_size=32, epochs=10)\n",
    "\n",
    "\n",
    "# 评估模型\n",
    "loss, accuracy = model.evaluate(x_test, y_test)\n",
    "print('\\ntest loss:', loss)\n",
    "print('test accuracy:', accuracy)\n",
    "\n",
    "loss, accuracy = model.evaluate(x_train, y_train)\n",
    "print('\\ntrain loss:', loss)\n",
    "print('train accuracy:', accuracy)\n",
    "\n",
    "# 没有dropout:\n",
    "# x_shape: (60000, 28, 28)\n",
    "# y_shape: (60000,)\n",
    "# Epoch 1/10\n",
    "# 60000/60000 [==============================] - 6s 104us/step - loss: 0.2839 - acc: 0.9145\n",
    "# Epoch 2/10\n",
    "# 60000/60000 [==============================] - 6s 104us/step - loss: 0.1123 - acc: 0.9657\n",
    "# Epoch 3/10\n",
    "# 60000/60000 [==============================] - 7s 111us/step - loss: 0.0790 - acc: 0.9754\n",
    "# Epoch 4/10\n",
    "# 60000/60000 [==============================] - 6s 99us/step - loss: 0.0563 - acc: 0.9826\n",
    "# Epoch 5/10\n",
    "# 60000/60000 [==============================] - 6s 106us/step - loss: 0.0423 - acc: 0.9869\n",
    "# Epoch 6/10\n",
    "# 60000/60000 [==============================] - 7s 110us/step - loss: 0.0317 - acc: 0.9902\n",
    "# Epoch 7/10\n",
    "# 60000/60000 [==============================] - 6s 106us/step - loss: 0.0232 - acc: 0.9933\n",
    "# Epoch 8/10\n",
    "# 60000/60000 [==============================] - 6s 104us/step - loss: 0.0166 - acc: 0.9955\n",
    "# Epoch 9/10\n",
    "# 60000/60000 [==============================] - 6s 107us/step - loss: 0.0115 - acc: 0.9972\n",
    "# Epoch 10/10\n",
    "# 60000/60000 [==============================] - 7s 110us/step - loss: 0.0083 - acc: 0.9983\n",
    "# 10000/10000 [==============================] - 1s 51us/step\n",
    "\n",
    "# test loss: 0.06576111720069894\n",
    "# test accuracy: 0.9795\n",
    "# 60000/60000 [==============================] - 3s 43us/step\n",
    "\n",
    "# train loss: 0.004860168347941847\n",
    "# train accuracy: 0.9994166666666666"
   ]
  },
  {
   "cell_type": "code",
   "execution_count": null,
   "metadata": {
    "collapsed": true
   },
   "outputs": [],
   "source": []
  }
 ],
 "metadata": {
  "anaconda-cloud": {},
  "kernelspec": {
   "display_name": "Python [default]",
   "language": "python",
   "name": "python3"
  },
  "language_info": {
   "codemirror_mode": {
    "name": "ipython",
    "version": 3
   },
   "file_extension": ".py",
   "mimetype": "text/x-python",
   "name": "python",
   "nbconvert_exporter": "python",
   "pygments_lexer": "ipython3",
   "version": "3.5.2"
  }
 },
 "nbformat": 4,
 "nbformat_minor": 1
}
