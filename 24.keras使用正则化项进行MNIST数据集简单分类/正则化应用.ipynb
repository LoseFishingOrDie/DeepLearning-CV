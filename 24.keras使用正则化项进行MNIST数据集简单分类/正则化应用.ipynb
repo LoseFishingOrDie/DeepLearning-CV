{
 "cells": [
  {
   "cell_type": "code",
   "execution_count": 5,
   "metadata": {
    "collapsed": false
   },
   "outputs": [],
   "source": [
    "import numpy as np\n",
    "from keras.datasets import mnist\n",
    "# keras提供的numpy工具包\n",
    "from keras.utils import np_utils\n",
    "from keras.models import Sequential\n",
    "from keras.layers import Dense\n",
    "from keras.optimizers import SGD\n",
    "# 正则化包\n",
    "from keras.regularizers import l2"
   ]
  },
  {
   "cell_type": "code",
   "execution_count": 4,
   "metadata": {
    "collapsed": false
   },
   "outputs": [
    {
     "name": "stdout",
     "output_type": "stream",
     "text": [
      "x_shape: (60000, 28, 28)\n",
      "y_shape: (60000,)\n",
      "Epoch 1/10\n",
      "60000/60000 [==============================] - 7s 124us/step - loss: 0.4438 - acc: 0.9103\n",
      "Epoch 2/10\n",
      "60000/60000 [==============================] - 7s 121us/step - loss: 0.2617 - acc: 0.9599\n",
      "Epoch 3/10\n",
      "60000/60000 [==============================] - 8s 126us/step - loss: 0.2184 - acc: 0.9694\n",
      "Epoch 4/10\n",
      "60000/60000 [==============================] - 7s 125us/step - loss: 0.1930 - acc: 0.9744\n",
      "Epoch 5/10\n",
      "60000/60000 [==============================] - 7s 120us/step - loss: 0.1802 - acc: 0.9764\n",
      "Epoch 6/10\n",
      "60000/60000 [==============================] - 7s 118us/step - loss: 0.1687 - acc: 0.9782\n",
      "Epoch 7/10\n",
      "60000/60000 [==============================] - 8s 129us/step - loss: 0.1621 - acc: 0.9791\n",
      "Epoch 8/10\n",
      "60000/60000 [==============================] - 8s 126us/step - loss: 0.1571 - acc: 0.9808\n",
      "Epoch 9/10\n",
      "60000/60000 [==============================] - 8s 127us/step - loss: 0.1551 - acc: 0.9806\n",
      "Epoch 10/10\n",
      "60000/60000 [==============================] - 8s 128us/step - loss: 0.1509 - acc: 0.9812\n",
      "10000/10000 [==============================] - 1s 55us/step\n",
      "\n",
      "test loss: 0.1696284313082695\n",
      "test accuracy: 0.9735\n",
      "60000/60000 [==============================] - 3s 49us/step\n",
      "\n",
      "train loss: 0.14487112503449123\n",
      "train accuracy: 0.9829666666666667\n"
     ]
    }
   ],
   "source": [
    "# 载入数据\n",
    "(x_train,y_train), (x_test,y_test) = mnist.load_data()\n",
    "\n",
    "# (6000,28,28)\n",
    "print('x_shape:', x_train.shape)\n",
    "# (6000)\n",
    "print('y_shape:', y_train.shape)\n",
    "\n",
    "# 进行数据转换,并归一化\n",
    "# (60000,28,28) -> (60000, 784)\n",
    "x_train = x_train.reshape(x_train.shape[0], -1)/255.0\n",
    "x_test = x_test.reshape(x_test.shape[0], -1)/255.0\n",
    "# 换one hot格式\n",
    "y_train = np_utils.to_categorical(y_train, num_classes=10)\n",
    "y_test = np_utils.to_categorical(y_test, num_classes=10)\n",
    "\n",
    "# 创建模型: 784-200-100-10\n",
    "model = Sequential([\n",
    "        Dense(units=200, input_dim=784, bias_initializer='one', activation='tanh', kernel_regularizer=l2(0.0003)),\n",
    "        Dense(units=100, bias_initializer='one', activation='tanh', kernel_regularizer=l2(0.0003)),\n",
    "        Dense(units=10, bias_initializer='one', activation='softmax', kernel_regularizer=l2(0.0003))\n",
    "    ])\n",
    "\n",
    "# 定义优化\n",
    "sgd = SGD(lr=0.2)\n",
    "\n",
    "# 定义优化器，loss function, 训练过程中的准确率\n",
    "model.compile(\n",
    "    optimizer = sgd,\n",
    "    loss = 'categorical_crossentropy',\n",
    "    metrics = ['accuracy']\n",
    ")\n",
    "\n",
    "# 进行模型训练\n",
    "model.fit(x_train, y_train, batch_size=32, epochs=10)\n",
    "\n",
    "\n",
    "# 评估模型\n",
    "loss, accuracy = model.evaluate(x_test, y_test)\n",
    "print('\\ntest loss:', loss)\n",
    "print('test accuracy:', accuracy)\n",
    "\n",
    "loss, accuracy = model.evaluate(x_train, y_train)\n",
    "print('\\ntrain loss:', loss)\n",
    "print('train accuracy:', accuracy)"
   ]
  },
  {
   "cell_type": "code",
   "execution_count": null,
   "metadata": {
    "collapsed": true
   },
   "outputs": [],
   "source": []
  }
 ],
 "metadata": {
  "kernelspec": {
   "display_name": "Python [default]",
   "language": "python",
   "name": "python3"
  },
  "language_info": {
   "codemirror_mode": {
    "name": "ipython",
    "version": 3
   },
   "file_extension": ".py",
   "mimetype": "text/x-python",
   "name": "python",
   "nbconvert_exporter": "python",
   "pygments_lexer": "ipython3",
   "version": "3.5.2"
  }
 },
 "nbformat": 4,
 "nbformat_minor": 1
}
