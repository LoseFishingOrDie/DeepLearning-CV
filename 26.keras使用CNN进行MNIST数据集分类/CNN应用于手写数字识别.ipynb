{
 "cells": [
  {
   "cell_type": "code",
   "execution_count": 1,
   "metadata": {
    "collapsed": false
   },
   "outputs": [
    {
     "name": "stderr",
     "output_type": "stream",
     "text": [
      "Using TensorFlow backend.\n"
     ]
    }
   ],
   "source": [
    "import numpy as np\n",
    "from keras.datasets import mnist\n",
    "from keras.utils import np_utils\n",
    "from keras.models import Sequential\n",
    "from keras.layers import Dense, Dropout, Convolution2D, MaxPooling2D, Flatten\n",
    "from keras.optimizers import Adam"
   ]
  },
  {
   "cell_type": "code",
   "execution_count": 3,
   "metadata": {
    "collapsed": false
   },
   "outputs": [
    {
     "name": "stdout",
     "output_type": "stream",
     "text": [
      "x_shape: (60000, 28, 28)\n",
      "y_shape: (60000,)\n",
      "Epoch 1/10\n",
      "60000/60000 [==============================] - 214s 4ms/step - loss: 0.3343 - acc: 0.9043\n",
      "Epoch 2/10\n",
      "60000/60000 [==============================] - 214s 4ms/step - loss: 0.0887 - acc: 0.9729\n",
      "Epoch 3/10\n",
      "60000/60000 [==============================] - 214s 4ms/step - loss: 0.0635 - acc: 0.9806\n",
      "Epoch 4/10\n",
      "60000/60000 [==============================] - 214s 4ms/step - loss: 0.0493 - acc: 0.9848\n",
      "Epoch 5/10\n",
      "60000/60000 [==============================] - 214s 4ms/step - loss: 0.0414 - acc: 0.9873\n",
      "Epoch 6/10\n",
      "60000/60000 [==============================] - 225s 4ms/step - loss: 0.0357 - acc: 0.9888\n",
      "Epoch 7/10\n",
      "60000/60000 [==============================] - 211s 4ms/step - loss: 0.0299 - acc: 0.9908\n",
      "Epoch 8/10\n",
      "60000/60000 [==============================] - 210s 3ms/step - loss: 0.0270 - acc: 0.9913\n",
      "Epoch 9/10\n",
      "60000/60000 [==============================] - 211s 4ms/step - loss: 0.0239 - acc: 0.9924\n",
      "Epoch 10/10\n",
      "60000/60000 [==============================] - 205s 3ms/step - loss: 0.0206 - acc: 0.9933\n",
      "10000/10000 [==============================] - 12s 1ms/step\n",
      "test loss:  0.021567985947515262\n",
      "test accuracy:  0.9922\n"
     ]
    }
   ],
   "source": [
    "# 载入数据\n",
    "(x_train,y_train), (x_test,y_test) = mnist.load_data()\n",
    "\n",
    "# (6000,28,28)\n",
    "print('x_shape:', x_train.shape)\n",
    "# (6000)\n",
    "print('y_shape:', y_train.shape)\n",
    "\n",
    "# 进行数据转换,并归一化\n",
    "# (60000,28,28) -> (60000, 28, 28, 1)\n",
    "x_train = x_train.reshape(-1, 28, 28, 1)/255.0\n",
    "x_test = x_test.reshape(-1, 28, 28, 1)/255.0\n",
    "# 换one hot格式\n",
    "y_train = np_utils.to_categorical(y_train, num_classes=10)\n",
    "y_test = np_utils.to_categorical(y_test, num_classes=10)\n",
    "\n",
    "# 定义顺序模型\n",
    "model = Sequential()\n",
    "\n",
    "# 第一个卷积层\n",
    "# input_shape 输入平面\n",
    "# filters 卷积核/滤波器个数\n",
    "# kernel_size 卷积窗口大小\n",
    "# strides 步长\n",
    "# padding padding方式 same/valid\n",
    "# activation 激活函数\n",
    "model.add(Convolution2D(\n",
    "        input_shape=(28,28,1), \n",
    "        filters=32, \n",
    "        kernel_size=5,\n",
    "        strides=1, \n",
    "        padding='same', \n",
    "        activation='relu',\n",
    "    ))\n",
    "\n",
    "# 第一个池化层\n",
    "model.add(MaxPooling2D(\n",
    "        pool_size=2, \n",
    "        strides=2, \n",
    "        padding='same',\n",
    "    ))\n",
    "\n",
    "# 第二个卷积层\n",
    "model.add(Convolution2D(64, 5, strides=1, padding='same', activation='relu'))\n",
    "# 第二个池化层\n",
    "model.add(MaxPooling2D(2, 2, 'same'))\n",
    "# 把第二个池化层的输出扁平化\n",
    "model.add(Flatten())\n",
    "# 第一个全连接层\n",
    "model.add(Dense(1024, activation='relu'))\n",
    "# Dropout\n",
    "model.add(Dropout(0.5))\n",
    "# 第二个全连接层\n",
    "model.add(Dense(10, activation='softmax'))\n",
    "\n",
    "# 定义优化器\n",
    "adam = Adam(lr=1e-4)\n",
    "\n",
    "# 定义优化器，loss function, 训练过程中的准确率\n",
    "model.compile(optimizer=adam, loss='categorical_crossentropy', metrics=['accuracy'])\n",
    "\n",
    "# 训练模型\n",
    "model.fit(x_train, y_train, batch_size=64, epochs=10)\n",
    "\n",
    "# 评估模型\n",
    "loss, accuracy = model.evaluate(x_test,y_test)\n",
    "\n",
    "print('test loss: ', loss)\n",
    "print('test accuracy: ', accuracy)"
   ]
  },
  {
   "cell_type": "code",
   "execution_count": null,
   "metadata": {
    "collapsed": true
   },
   "outputs": [],
   "source": []
  },
  {
   "cell_type": "code",
   "execution_count": null,
   "metadata": {
    "collapsed": true
   },
   "outputs": [],
   "source": []
  },
  {
   "cell_type": "code",
   "execution_count": null,
   "metadata": {
    "collapsed": true
   },
   "outputs": [],
   "source": []
  },
  {
   "cell_type": "code",
   "execution_count": null,
   "metadata": {
    "collapsed": true
   },
   "outputs": [],
   "source": []
  },
  {
   "cell_type": "code",
   "execution_count": null,
   "metadata": {
    "collapsed": true
   },
   "outputs": [],
   "source": []
  }
 ],
 "metadata": {
  "kernelspec": {
   "display_name": "Python [default]",
   "language": "python",
   "name": "python3"
  },
  "language_info": {
   "codemirror_mode": {
    "name": "ipython",
    "version": 3
   },
   "file_extension": ".py",
   "mimetype": "text/x-python",
   "name": "python",
   "nbconvert_exporter": "python",
   "pygments_lexer": "ipython3",
   "version": "3.5.2"
  }
 },
 "nbformat": 4,
 "nbformat_minor": 1
}
