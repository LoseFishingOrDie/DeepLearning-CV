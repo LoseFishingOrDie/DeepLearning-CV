{
 "cells": [
  {
   "cell_type": "code",
   "execution_count": 3,
   "metadata": {
    "collapsed": false
   },
   "outputs": [],
   "source": [
    "import numpy as np\n",
    "from keras.datasets import mnist\n",
    "# keras提供的numpy工具包\n",
    "from keras.utils import np_utils\n",
    "from keras.models import Sequential\n",
    "from keras.layers import Dense\n",
    "from keras.optimizers import SGD, Adam"
   ]
  },
  {
   "cell_type": "code",
   "execution_count": 4,
   "metadata": {
    "collapsed": false
   },
   "outputs": [
    {
     "name": "stdout",
     "output_type": "stream",
     "text": [
      "x_shape: (60000, 28, 28)\n",
      "y_shape: (60000,)\n",
      "Epoch 1/10\n",
      "60000/60000 [==============================] - 4s 62us/step - loss: 0.4662 - acc: 0.8790\n",
      "Epoch 2/10\n",
      "60000/60000 [==============================] - 3s 56us/step - loss: 0.3035 - acc: 0.9153\n",
      "Epoch 3/10\n",
      "60000/60000 [==============================] - 3s 55us/step - loss: 0.2828 - acc: 0.9205\n",
      "Epoch 4/10\n",
      "60000/60000 [==============================] - 3s 57us/step - loss: 0.2727 - acc: 0.9232\n",
      "Epoch 5/10\n",
      "60000/60000 [==============================] - 3s 56us/step - loss: 0.2664 - acc: 0.9261\n",
      "Epoch 6/10\n",
      "60000/60000 [==============================] - 4s 60us/step - loss: 0.2619 - acc: 0.9266\n",
      "Epoch 7/10\n",
      "60000/60000 [==============================] - 3s 56us/step - loss: 0.2578 - acc: 0.9281\n",
      "Epoch 8/10\n",
      "60000/60000 [==============================] - 3s 56us/step - loss: 0.2553 - acc: 0.9296\n",
      "Epoch 9/10\n",
      "60000/60000 [==============================] - 3s 56us/step - loss: 0.2524 - acc: 0.9305\n",
      "Epoch 10/10\n",
      "60000/60000 [==============================] - 3s 56us/step - loss: 0.2509 - acc: 0.9306\n",
      "10000/10000 [==============================] - 0s 28us/step\n",
      "\n",
      "test loss: 0.2652167726397514\n",
      "accuracy: 0.9269\n"
     ]
    }
   ],
   "source": [
    "# 载入数据\n",
    "(x_train,y_train), (x_test,y_test) = mnist.load_data()\n",
    "\n",
    "# (6000,28,28)\n",
    "print('x_shape:', x_train.shape)\n",
    "# (6000)\n",
    "print('y_shape:', y_train.shape)\n",
    "\n",
    "# 进行数据转换,并归一化\n",
    "# (60000,28,28) -> (60000, 784)\n",
    "x_train = x_train.reshape(x_train.shape[0], -1)/255.0\n",
    "x_test = x_test.reshape(x_test.shape[0], -1)/255.0\n",
    "# 换one hot格式\n",
    "y_train = np_utils.to_categorical(y_train, num_classes=10)\n",
    "y_test = np_utils.to_categorical(y_test, num_classes=10)\n",
    "\n",
    "# 创建模型:输入784个神经元，输出10个神经元 784-10\n",
    "model = Sequential([\n",
    "        Dense(units=10, input_dim=784, bias_initializer='one', activation='softmax')\n",
    "    ])\n",
    "\n",
    "# 定义优化\n",
    "sgd = SGD(lr=0.2)\n",
    "adam = Adam(lr=0.001)\n",
    "\n",
    "# 定义优化器，loss function, 训练过程中的准确率\n",
    "model.compile(\n",
    "    optimizer = adam,\n",
    "    loss = 'categorical_crossentropy',\n",
    "    metrics = ['accuracy']\n",
    ")\n",
    "\n",
    "# 进行模型训练\n",
    "model.fit(x_train, y_train, batch_size=32, epochs=10)\n",
    "\n",
    "\n",
    "# 评估模型\n",
    "loss, accuracy = model.evaluate(x_test, y_test)\n",
    "\n",
    "print('\\ntest loss:', loss)\n",
    "print('accuracy:', accuracy)\n",
    "\n",
    "#使用随机梯度下降优化器\n",
    "# x_shape: (60000, 28, 28)\n",
    "# y_shape: (60000,)\n",
    "# Epoch 1/10\n",
    "# 60000/60000 [==============================] - 3s 56us/step - loss: 0.3749 - acc: 0.8946\n",
    "# Epoch 2/10\n",
    "# 60000/60000 [==============================] - 3s 54us/step - loss: 0.3031 - acc: 0.9143\n",
    "# Epoch 3/10\n",
    "# 60000/60000 [==============================] - 3s 52us/step - loss: 0.2894 - acc: 0.9185\n",
    "# Epoch 4/10\n",
    "# 60000/60000 [==============================] - 3s 54us/step - loss: 0.2820 - acc: 0.9216\n",
    "# Epoch 5/10\n",
    "# 60000/60000 [==============================] - 3s 52us/step - loss: 0.2778 - acc: 0.9224\n",
    "# Epoch 6/10\n",
    "# 60000/60000 [==============================] - 3s 51us/step - loss: 0.2745 - acc: 0.9230\n",
    "# Epoch 7/10\n",
    "# 60000/60000 [==============================] - 3s 57us/step - loss: 0.2706 - acc: 0.9240\n",
    "# Epoch 8/10\n",
    "# 60000/60000 [==============================] - 3s 57us/step - loss: 0.2688 - acc: 0.9248\n",
    "# Epoch 9/10\n",
    "# 60000/60000 [==============================] - 3s 53us/step - loss: 0.2668 - acc: 0.9249\n",
    "# Epoch 10/10\n",
    "# 60000/60000 [==============================] - 3s 56us/step - loss: 0.2656 - acc: 0.9256\n",
    "# 10000/10000 [==============================] - 0s 27us/step\n",
    "\n",
    "# test loss: 0.277656376940012\n",
    "# accuracy: 0.9251"
   ]
  },
  {
   "cell_type": "code",
   "execution_count": null,
   "metadata": {
    "collapsed": true
   },
   "outputs": [],
   "source": []
  }
 ],
 "metadata": {
  "kernelspec": {
   "display_name": "Python [default]",
   "language": "python",
   "name": "python3"
  },
  "language_info": {
   "codemirror_mode": {
    "name": "ipython",
    "version": 3
   },
   "file_extension": ".py",
   "mimetype": "text/x-python",
   "name": "python",
   "nbconvert_exporter": "python",
   "pygments_lexer": "ipython3",
   "version": "3.5.2"
  }
 },
 "nbformat": 4,
 "nbformat_minor": 1
}
