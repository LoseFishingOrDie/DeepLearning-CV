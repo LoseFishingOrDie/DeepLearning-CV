{
 "cells": [
  {
   "cell_type": "code",
   "execution_count": 3,
   "metadata": {
    "collapsed": false
   },
   "outputs": [],
   "source": [
    "import numpy as np\n",
    "from keras.datasets import mnist\n",
    "# keras提供的numpy工具包\n",
    "from keras.utils import np_utils\n",
    "from keras.models import Sequential\n",
    "from keras.layers import Dense\n",
    "from keras.optimizers import SGD\n",
    "import keras"
   ]
  },
  {
   "cell_type": "code",
   "execution_count": 4,
   "metadata": {
    "collapsed": false
   },
   "outputs": [
    {
     "name": "stdout",
     "output_type": "stream",
     "text": [
      "x_shape: (60000, 28, 28)\n",
      "y_shape: (60000,)\n",
      "Epoch 1/10\n",
      "60000/60000 [==============================] - 2s 41us/step - loss: 0.3778 - acc: 0.8930\n",
      "Epoch 2/10\n",
      "60000/60000 [==============================] - 2s 37us/step - loss: 0.3033 - acc: 0.9148\n",
      "Epoch 3/10\n",
      "60000/60000 [==============================] - 2s 38us/step - loss: 0.2895 - acc: 0.9184\n",
      "Epoch 4/10\n",
      "60000/60000 [==============================] - 2s 39us/step - loss: 0.2830 - acc: 0.9209\n",
      "Epoch 5/10\n",
      "60000/60000 [==============================] - 2s 37us/step - loss: 0.2783 - acc: 0.9218\n",
      "Epoch 6/10\n",
      "60000/60000 [==============================] - 2s 39us/step - loss: 0.2744 - acc: 0.9234\n",
      "Epoch 7/10\n",
      "60000/60000 [==============================] - 2s 41us/step - loss: 0.2713 - acc: 0.9243\n",
      "Epoch 8/10\n",
      "60000/60000 [==============================] - 2s 38us/step - loss: 0.2691 - acc: 0.9256\n",
      "Epoch 9/10\n",
      "60000/60000 [==============================] - 2s 39us/step - loss: 0.2665 - acc: 0.9254\n",
      "Epoch 10/10\n",
      "60000/60000 [==============================] - 2s 38us/step - loss: 0.2652 - acc: 0.9253\n",
      "10000/10000 [==============================] - 0s 19us/step\n",
      "\n",
      "test loss: 0.2759707436442375\n",
      "accuracy: 0.9201\n"
     ]
    }
   ],
   "source": [
    "# 载入数据\n",
    "(x_train,y_train), (x_test,y_test) = mnist.load_data()\n",
    "\n",
    "# (6000,28,28)\n",
    "print('x_shape:', x_train.shape)\n",
    "# (6000)\n",
    "print('y_shape:', y_train.shape)\n",
    "\n",
    "# 进行数据转换,并归一化\n",
    "# (60000,28,28) -> (60000, 784)\n",
    "x_train = x_train.reshape(x_train.shape[0], -1)/255.0\n",
    "x_test = x_test.reshape(x_test.shape[0], -1)/255.0\n",
    "# 换one hot格式\n",
    "y_train = np_utils.to_categorical(y_train, num_classes=10)\n",
    "y_test = np_utils.to_categorical(y_test, num_classes=10)\n",
    "\n",
    "# 创建模型:输入784个神经元，输出10个神经元 784-10\n",
    "model = Sequential([\n",
    "        Dense(units=10, input_dim=784, bias_initializer='one', activation='softmax')\n",
    "    ])\n",
    "\n",
    "# 定义优化\n",
    "sgd = SGD(lr=0.2)\n",
    "\n",
    "# 定义优化器，loss function, 训练过程中的准确率\n",
    "model.compile(\n",
    "    optimizer = sgd,\n",
    "    loss = 'categorical_crossentropy', #  或者使用loss = keras.losses.categorical_crossentropy,\n",
    "    metrics = ['accuracy']\n",
    ")\n",
    "\n",
    "# 进行模型训练\n",
    "model.fit(x_train, y_train, batch_size=32, epochs=10)\n",
    "\n",
    "\n",
    "# 评估模型\n",
    "loss, accuracy = model.evaluate(x_test, y_test)\n",
    "\n",
    "print('\\ntest loss:', loss)\n",
    "print('accuracy:', accuracy)"
   ]
  },
  {
   "cell_type": "code",
   "execution_count": null,
   "metadata": {
    "collapsed": true
   },
   "outputs": [],
   "source": []
  }
 ],
 "metadata": {
  "kernelspec": {
   "display_name": "Python [default]",
   "language": "python",
   "name": "python3"
  },
  "language_info": {
   "codemirror_mode": {
    "name": "ipython",
    "version": 3
   },
   "file_extension": ".py",
   "mimetype": "text/x-python",
   "name": "python",
   "nbconvert_exporter": "python",
   "pygments_lexer": "ipython3",
   "version": "3.5.2"
  }
 },
 "nbformat": 4,
 "nbformat_minor": 1
}
