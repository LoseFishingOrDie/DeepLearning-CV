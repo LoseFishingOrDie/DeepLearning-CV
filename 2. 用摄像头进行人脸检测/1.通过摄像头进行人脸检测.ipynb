{
 "cells": [
  {
   "cell_type": "code",
   "execution_count": 1,
   "metadata": {
    "collapsed": true
   },
   "outputs": [],
   "source": [
    "from imutils import *"
   ]
  },
  {
   "cell_type": "code",
   "execution_count": 2,
   "metadata": {
    "collapsed": false
   },
   "outputs": [],
   "source": [
    "def detector_object(name):\n",
    "    #摄像头捕捉\n",
    "    cap = cv2.VideoCapture(0)\n",
    "    def _capture_face():\n",
    "        print('capture face begin!')\n",
    "        while True:\n",
    "            #根据帧来读\n",
    "            ret, frame = cap.read()\n",
    "            if ret != True:\n",
    "                break\n",
    "            \n",
    "            #级联分类器进行人脸识别\n",
    "            detector = cv2.CascadeClassifier('haarcascade_frontalface_alt.xml')\n",
    "            rects = detector.detectMultiScale(frame, scaleFactor=1.1, minNeighbors=2, minSize=(10,10), flags=cv2.CASCADE_SCALE_IMAGE)\n",
    "            for (x,y,w,h) in rects:\n",
    "                cv2.rectangle(frame, (x,y), (x+w, y+h), (0, 255, 0), 2)\n",
    "            \n",
    "            cv2.imshow('frame', frame)   \n",
    "            if cv2.waitKey(20) & 0xff == ord('q'):\n",
    "                break\n",
    "                \n",
    "    def _capture_eye():\n",
    "        print('capture eye begin!')\n",
    "        while True:\n",
    "            #根据帧来读\n",
    "            ret, frame = cap.read()\n",
    "            if ret != True:\n",
    "                break\n",
    "            #级联分类器进行眼睛识别\n",
    "            detector = cv2.CascadeClassifier('haarcascade_eye_tree_eyeglasses.xml')\n",
    "            rects = detector.detectMultiScale(frame, scaleFactor=1.1, minNeighbors=3, minSize=(10,10), flags=cv2.CASCADE_SCALE_IMAGE)\n",
    "            for (x,y,w,h) in rects:\n",
    "                cv2.rectangle(frame, (x, y), (x+w, y+h), (0, 255, 0), 2)\n",
    "            \n",
    "            cv2.imshow('frame', frame)   \n",
    "            if cv2.waitKey(20) & 0xff == ord('q'):\n",
    "                break\n",
    "    \n",
    "    if name == 'face':\n",
    "        _capture_face()\n",
    "    elif name == 'eye':\n",
    "        _capture_eye()\n",
    "        \n",
    "    cap.release()\n",
    "    cv2.destroyAllWindows()"
   ]
  },
  {
   "cell_type": "code",
   "execution_count": 3,
   "metadata": {
    "collapsed": false
   },
   "outputs": [
    {
     "name": "stdout",
     "output_type": "stream",
     "text": [
      "capture face begin!\n"
     ]
    }
   ],
   "source": [
    "detector_object('face')"
   ]
  },
  {
   "cell_type": "code",
   "execution_count": 4,
   "metadata": {
    "collapsed": false
   },
   "outputs": [
    {
     "name": "stdout",
     "output_type": "stream",
     "text": [
      "capture eye begin!\n"
     ]
    }
   ],
   "source": [
    "detector_object('eye')"
   ]
  },
  {
   "cell_type": "code",
   "execution_count": null,
   "metadata": {
    "collapsed": true
   },
   "outputs": [],
   "source": []
  }
 ],
 "metadata": {
  "anaconda-cloud": {},
  "kernelspec": {
   "display_name": "Python [default]",
   "language": "python",
   "name": "python3"
  },
  "language_info": {
   "codemirror_mode": {
    "name": "ipython",
    "version": 3
   },
   "file_extension": ".py",
   "mimetype": "text/x-python",
   "name": "python",
   "nbconvert_exporter": "python",
   "pygments_lexer": "ipython3",
   "version": "3.5.2"
  }
 },
 "nbformat": 4,
 "nbformat_minor": 1
}
