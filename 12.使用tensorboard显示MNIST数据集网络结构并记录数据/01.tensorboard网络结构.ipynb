{
 "cells": [
  {
   "cell_type": "code",
   "execution_count": 1,
   "metadata": {
    "collapsed": true
   },
   "outputs": [],
   "source": [
    "import tensorflow as tf\n",
    "from tensorflow.examples.tutorials.mnist import input_data"
   ]
  },
  {
   "cell_type": "code",
   "execution_count": 4,
   "metadata": {
    "collapsed": false
   },
   "outputs": [
    {
     "name": "stdout",
     "output_type": "stream",
     "text": [
      "Extracting MNIST_data\\train-images-idx3-ubyte.gz\n",
      "Extracting MNIST_data\\train-labels-idx1-ubyte.gz\n",
      "Extracting MNIST_data\\t10k-images-idx3-ubyte.gz\n",
      "Extracting MNIST_data\\t10k-labels-idx1-ubyte.gz\n",
      "859\n"
     ]
    }
   ],
   "source": [
    "# 载入数据集\n",
    "mnist = input_data.read_data_sets(\"MNIST_data\", one_hot=True)\n",
    "\n",
    "# 批次大小\n",
    "batch_size = 64\n",
    "# 计算每个周期的批次大小\n",
    "n_batch = mnist.train.num_examples // batch_size\n",
    "print(n_batch)\n",
    "\n",
    "with tf.name_scope('input'):\n",
    "    x = tf.placeholder(tf.float32, [None, 784], name='x_input')\n",
    "    y = tf.placeholder(tf.float32, [None, 10], name='y_input')\n",
    "\n",
    "# 神经网络结构 784-10\n",
    "with tf.name_scope('layer'):\n",
    "    with tf.name_scope('weights'):\n",
    "        W = tf.Variable(tf.truncated_normal([784,10],stddev=0.1))\n",
    "    with tf.name_scope('bias'):\n",
    "        b = tf.Variable(tf.zeros([10]) + 0.1)\n",
    "    with tf.name_scope('wx_plus_b'):\n",
    "        z = tf.matmul(x, W) + b\n",
    "    with tf.name_scope('prediction'):\n",
    "        prediction = tf.nn.softmax(z)\n",
    "\n",
    "# 二次代价函数\n",
    "with tf.name_scope('loss'):\n",
    "    loss = tf.losses.mean_squared_error(y, prediction)\n",
    "    \n",
    "# 梯度下降法优化器\n",
    "with tf.name_scope('train'):\n",
    "    train = tf.train.GradientDescentOptimizer(0.3).minimize(loss)\n",
    "    \n",
    "# 求准确率\n",
    "with tf.name_scope('accuracy'):\n",
    "    # 将结果放在boolean型列表中\n",
    "    with tf.name_scope('correct_predicton'):\n",
    "        correct_predicton = tf.equal(tf.argmax(y,1), tf.argmax(prediction,1))\n",
    "    # 转换为float，求准确率\n",
    "    with tf.name_scope('accuracy'):\n",
    "        accuracy = tf.reduce_mean(tf.cast(correct_predicton, tf.float32))\n",
    "        \n",
    "# 创建会话，进行训练\n",
    "with tf.Session() as sess:\n",
    "    sess.run(tf.global_variables_initializer())\n",
    "    writer = tf.summary.FileWriter('logdir/', sess.graph)"
   ]
  }
 ],
 "metadata": {
  "anaconda-cloud": {},
  "kernelspec": {
   "display_name": "Python [default]",
   "language": "python",
   "name": "python3"
  },
  "language_info": {
   "codemirror_mode": {
    "name": "ipython",
    "version": 3
   },
   "file_extension": ".py",
   "mimetype": "text/x-python",
   "name": "python",
   "nbconvert_exporter": "python",
   "pygments_lexer": "ipython3",
   "version": "3.5.2"
  }
 },
 "nbformat": 4,
 "nbformat_minor": 1
}
